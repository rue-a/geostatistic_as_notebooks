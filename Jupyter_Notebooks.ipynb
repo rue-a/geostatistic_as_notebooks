{
 "cells": [
  {
   "cell_type": "markdown",
   "metadata": {},
   "source": [
    "# Kurze Einführung in Jupyter Notebooks"
   ]
  },
  {
   "cell_type": "markdown",
   "metadata": {},
   "source": [
    "Jupyter Notebooks stellen eine Kombination aus lesbarem Text und ausführbarem Quellcode (z.B. R) dar. Sie eignen sich damit ausgezeichnet dafür Aufgabenstellungen und Lösungen von Programmierbelegen optisch ansprechend und übersichtlich darzustellen. Ein Jupyter Notebook ist in Zellen strukturiert, wobei jede Zelle entweder Text oder ausführbaren Quellcode enthält. "
   ]
  },
  {
   "cell_type": "markdown",
   "metadata": {},
   "source": [
    "## Textzellen / Markdownzellen\n",
    "\n",
    "Der Text in Textzellen muss in `Markdown` verfasst werden (darum werden Textzellen ab jetzt als Markdownzellen bezeichnet). `Markdown` ist eine einfach zu erlernende Auszeichnungssprache, ähnlich `HTML` oder $\\LaTeX$. Im Gegensatz zu WYSIWYG (what you see is what you get) Textverarbeitungsprogrammen wie MS Word, werden Formatierungen u.ä. durch Symbole ausgezeichnet. Die finale Darstellung des Textes wird erst duch die Interpretation des ausgezeichneten Textes durch die Textverarbeitungssoftware erzielt. Beispielsweise werden **fett** gedruckte Textabschnitte durch zwei ein- und ausfürende `**` gekennzeichent (``**fett**``).\n",
    "\n",
    "Eine Markdownzelle in Jypyter Notebooks wird druch die Tastenkombination `strg + enter` interpretiert. Diese Markdownzelle ist bereits interpretiert; um zurück in den Bearbeitungsmodus zu gelangen kann eine Zelle doppelt geklickt werden. \n",
    "\n",
    "Öffnen Sie den Bearbeitungsmodus dieser Zelle mittels Doppelklick und korrigieren den Rechschreibfehler in *ausführende* (Ende erster Abschnitt)! Interpretieren Sie die Zelle anschließend mit `strg + enter`!\n",
    "\n",
    "[Markdown Getting Started](https://www.markdownguide.org/getting-started/)\n",
    "\n",
    "[Markdown Cheat Sheet](https://www.markdownguide.org/cheat-sheet/)"
   ]
  },
  {
   "cell_type": "markdown",
   "metadata": {},
   "source": [
    "## Quellcodezellen\n",
    "\n",
    "Quellcodezellen enthalten interpretierbaren Quellcode; in diesem Fall in **R**. \n",
    "\n",
    "Eine Quellcodezelle wird ebenfalls mit `strg + enter` interpretiert und ausgeführt. Im Folgende Beispiel einer solchen Quellcodezelle werden den beiden Variablen `a` und `b` die Werte `13` und `7` zugewiesen, anschliessend werden die beiden Zahlen dividiert. Wird die Zelle mit `strg + enter` ausgeführt, wird das Resultat der Division ausgegeben.\n",
    "\n",
    "Führen Sie die nachfolgende Zelle aus!"
   ]
  },
  {
   "cell_type": "code",
   "execution_count": null,
   "metadata": {
    "vscode": {
     "languageId": "r"
    }
   },
   "outputs": [],
   "source": [
    "a <- 13\n",
    "b <- 7\n",
    "\n",
    "a/b"
   ]
  },
  {
   "cell_type": "markdown",
   "metadata": {},
   "source": [
    "Variablen welche in bereits ausgeführten Zellen definiert wurden, sind allen danach ausgeführten Zellen bekannt.\n",
    "\n",
    "Führen Sie die nachfolgende Zelle aus!"
   ]
  },
  {
   "cell_type": "code",
   "execution_count": null,
   "metadata": {
    "vscode": {
     "languageId": "r"
    }
   },
   "outputs": [],
   "source": [
    "a * b"
   ]
  },
  {
   "cell_type": "markdown",
   "metadata": {},
   "source": [
    "Variablen können überschrieben werden. Die nachfolgende Zelle überschreibt den Wert der Variablen `a` mit `1`.\n",
    "\n",
    "Führen Sie die nachfolgende Zelle aus! Führen Sie anschließend noch einmal die oben stehende Zelle (`a * b`) aus und überlegen Sie **vorher** welches Ergebnis Sie erwarten!"
   ]
  },
  {
   "cell_type": "code",
   "execution_count": null,
   "metadata": {
    "vscode": {
     "languageId": "r"
    }
   },
   "outputs": [],
   "source": [
    "a <- 1"
   ]
  },
  {
   "cell_type": "markdown",
   "metadata": {},
   "source": [
    "Falls Sie in der Bearbeitung der Belege verwirrende Ergebnisse erhalten, prüfen Sie ob Sie die Zellen in der richtigen Reihenfolge ausgeführt haben. Die Reihenfolge wird auch durch die Zahlen in eckigen Klammern links von den ausgeführten Codeblocks angezeigt. Das Kommando `Restart Kernel and Run All Cells...` (die zwei Pfeile ⏩ oben links neben *Download* in der Steuerleiste) löscht alle Variablen aus dem Speicher und führt alle Zellen der Reihe nach aus. \n",
    "\n",
    "**Abgegebene Belege müssen nach dem Ausführen dieses Befehls fehlerfrei durchlaufen und alle geforderten Ergebnisse anzeigen!** Prüfen Sie dies vor der Abgabe jedes Belegs!"
   ]
  }
 ],
 "metadata": {
  "kernelspec": {
   "display_name": "R",
   "language": "R",
   "name": "ir"
  },
  "language_info": {
   "name": "R",
   "version": "3.9.7"
  },
  "orig_nbformat": 4,
  "vscode": {
   "interpreter": {
    "hash": "81794d4967e6c3204c66dcd87b604927b115b27c00565d3d43f05ba2f3a2cb0d"
   }
  }
 },
 "nbformat": 4,
 "nbformat_minor": 2
}
