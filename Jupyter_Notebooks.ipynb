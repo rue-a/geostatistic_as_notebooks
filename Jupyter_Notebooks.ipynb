{
 "cells": [
  {
   "cell_type": "markdown",
   "metadata": {},
   "source": [
    "# Kurze Einführung in Jupyter Notebooks"
   ]
  },
  {
   "cell_type": "markdown",
   "metadata": {},
   "source": [
    "Jupyter Notebooks stellen eine Kombination aus lesbarem Text und ausführbarem Quellcode (z.B. R) dar. Sie eignen sich damit ausgezeichnet dafür Aufgabenstellungen und Lösungen von Programmierbelegen optisch ansprechend und übersichtlich darzustellen. Ein Jupyter Notebook ist in Zellen strukturiert, wobei jede Zelle entweder Text oder ausführbaren Quellcode enthält. "
   ]
  },
  {
   "cell_type": "markdown",
   "metadata": {},
   "source": [
    "## Textzellen / Markdownzellen\n",
    "\n",
    "Der Text in Textzellen wird muss in `Markdown` verfasst werden (darum werden Textzellen ab jetzt als Markdownzellen bezeichnet). `Markdown` ist eine einfach zu erlernende Auszeichnungssprache, ähnlich `HTML` oder $\\LaTeX$. Im Gegensatz zu WYSIWYG (what you see is what you get) Textverarbeitungsprogrammen wie MS Word, werden Formatierungen u.ä. durch Symbole ausgezeichnet. Die finale Darstellung des Textes wird erst duch die Interpretation des ausgezeichneten Textes durch die Textverarbeitungssoftware erzielt. Beispielsweise werden **fett** gedruckte Textabschnitte durch zwei ein- und ausfürende `**` gekennzeichent (``**fett**``).\n",
    "\n",
    "Eine Markdownzelle in Jypyter Notebooks wird druch die Tastenkombination `strg + enter` interpretiert.\n",
    "\n",
    "[Markdown Getting Started](https://www.markdownguide.org/getting-started/)\n",
    "\n",
    "[Markdown Cheat Sheet](https://www.markdownguide.org/cheat-sheet/)"
   ]
  },
  {
   "cell_type": "markdown",
   "metadata": {},
   "source": [
    "## Quellcodezellen\n",
    "\n",
    "Quellcodezellen enthalten interpretierbaren Quellcode; in diesem Fall in **R**. \n",
    "\n",
    "Eine Quellcodezelle wird ebenfalls mit `strg + enter` interpretiert und ausgeführt. Im Folgende Beispiel einer solchen Quellcodezelle werden den beiden Variablen `a` und `b` die Werte `13` und `7` zugewiesen, anschliessend werden die beiden Zahlen dividiert. Wird die Zelle mit `strg + enter` ausgeführt, wird das Resultat der Division ausgegeben."
   ]
  },
  {
   "cell_type": "code",
   "execution_count": null,
   "metadata": {
    "vscode": {
     "languageId": "r"
    }
   },
   "outputs": [
    {
     "ename": "",
     "evalue": "",
     "output_type": "error",
     "traceback": [
      "\u001b[1;31mFailed to start the Kernel. \n",
      "View Jupyter <a href='command:jupyter.viewOutput'>log</a> for further details."
     ]
    }
   ],
   "source": [
    "a <- 13\n",
    "b <- 7\n",
    "\n",
    "a/b"
   ]
  }
 ],
 "metadata": {
  "kernelspec": {
   "display_name": "R",
   "language": "R",
   "name": "ir"
  },
  "language_info": {
   "name": "R",
   "version": "3.9.7"
  },
  "orig_nbformat": 4,
  "vscode": {
   "interpreter": {
    "hash": "81794d4967e6c3204c66dcd87b604927b115b27c00565d3d43f05ba2f3a2cb0d"
   }
  }
 },
 "nbformat": 4,
 "nbformat_minor": 2
}
